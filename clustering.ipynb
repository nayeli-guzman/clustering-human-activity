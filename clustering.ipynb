{
 "cells": [
  {
   "cell_type": "markdown",
   "metadata": {},
   "source": [
    "# **Clustering**\n",
    "\n",
    "Una vez que se ha reducido la dimensionalidad de la extracción de caracteristicas, se procederá a clasificarlos con **KMeans** y **Gaussian Mixture Model**\n",
    "\n",
    "## **Load packages**"
   ]
  },
  {
   "cell_type": "code",
   "execution_count": 1,
   "metadata": {},
   "outputs": [],
   "source": [
    "import numpy as np"
   ]
  },
  {
   "cell_type": "markdown",
   "metadata": {},
   "source": [
    "## **Load datasets**"
   ]
  },
  {
   "cell_type": "code",
   "execution_count": 7,
   "metadata": {},
   "outputs": [],
   "source": [
    "train_tsne = np.load(\"reduction/train_tsne.npy\")\n",
    "train_umap = np.load(\"reduction/train_umap.npy\")\n",
    "train_numeric_labels = np.load(\"reduction/train_numeric_labels.npy\")"
   ]
  },
  {
   "cell_type": "code",
   "execution_count": 3,
   "metadata": {},
   "outputs": [],
   "source": [
    "from sklearn.metrics import silhouette_score, rand_score, adjusted_rand_score, mutual_info_score, normalized_mutual_info_score\n",
    "\n",
    "def calculate_clustering_metrics(X, cluster_labels, true_labels):\n",
    "    \n",
    "    silhouette = silhouette_score(X, cluster_labels)  # Silhouette Score\n",
    "    rand_index = rand_score(true_labels, cluster_labels)  # Rand Index\n",
    "    adjusted_rand = adjusted_rand_score(true_labels, cluster_labels)  # Adjusted Rand Index\n",
    "    mutual_info = mutual_info_score(true_labels, cluster_labels)  # Mutual Information\n",
    "    nmi = normalized_mutual_info_score(true_labels, cluster_labels)  # Normalized Mutual Information\n",
    "    \n",
    "    metrics = {\n",
    "        \"Silhouette Score\": silhouette,\n",
    "        \"Rand Index (RI)\": rand_index,\n",
    "        \"Adjusted Rand Index\": adjusted_rand,\n",
    "        \"Mutual Information Score (MI)\": mutual_info,\n",
    "        \"Normalized Mutual Information (NMI)\": nmi\n",
    "    }\n",
    "    \n",
    "    for metric, score in metrics.items():\n",
    "        print(f\"{metric}: {score:.4f}\")"
   ]
  },
  {
   "cell_type": "markdown",
   "metadata": {},
   "source": [
    "## **Modelos**"
   ]
  },
  {
   "cell_type": "markdown",
   "metadata": {},
   "source": [
    "### **t-SNE | KMeans**"
   ]
  },
  {
   "cell_type": "code",
   "execution_count": 8,
   "metadata": {},
   "outputs": [
    {
     "name": "stdout",
     "output_type": "stream",
     "text": [
      "Silhouette Score: 0.4811\n",
      "Rand Index (RI): 0.9519\n",
      "Adjusted Rand Index: 0.7524\n",
      "Mutual Information Score (MI): 1.9232\n",
      "Normalized Mutual Information (NMI): 0.8529\n"
     ]
    }
   ],
   "source": [
    "from kmeans_plus_plus import KMeans\n",
    "\n",
    "num_clusters = len(np.unique(train_numeric_labels))  \n",
    "\n",
    "kmeans = KMeans(n_clusters=num_clusters, random_state=42)\n",
    "cluster_labels = kmeans.fit_predict(train_tsne)\n",
    "\n",
    "calculate_clustering_metrics(train_tsne, cluster_labels, train_numeric_labels)"
   ]
  },
  {
   "cell_type": "markdown",
   "metadata": {},
   "source": [
    "### **UMAP | KMeans**"
   ]
  },
  {
   "cell_type": "code",
   "execution_count": 9,
   "metadata": {},
   "outputs": [
    {
     "name": "stdout",
     "output_type": "stream",
     "text": [
      "Silhouette Score: 0.7799\n",
      "Rand Index (RI): 0.9846\n",
      "Adjusted Rand Index: 0.9180\n",
      "Mutual Information Score (MI): 2.1410\n",
      "Normalized Mutual Information (NMI): 0.9413\n"
     ]
    }
   ],
   "source": [
    "from kmeans_plus_plus import KMeans\n",
    "\n",
    "num_clusters = len(np.unique(train_numeric_labels)) \n",
    "\n",
    "kmeans = KMeans(n_clusters=num_clusters, random_state=42)\n",
    "cluster_labels = kmeans.fit_predict(train_umap)\n",
    "\n",
    "calculate_clustering_metrics(train_umap, cluster_labels, train_numeric_labels)\n",
    "\n"
   ]
  }
 ],
 "metadata": {
  "kernelspec": {
   "display_name": "Python 3",
   "language": "python",
   "name": "python3"
  },
  "language_info": {
   "codemirror_mode": {
    "name": "ipython",
    "version": 3
   },
   "file_extension": ".py",
   "mimetype": "text/x-python",
   "name": "python",
   "nbconvert_exporter": "python",
   "pygments_lexer": "ipython3",
   "version": "3.12.5"
  }
 },
 "nbformat": 4,
 "nbformat_minor": 2
}
