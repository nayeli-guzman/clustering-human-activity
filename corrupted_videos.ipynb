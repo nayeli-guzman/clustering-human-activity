{
 "cells": [
  {
   "cell_type": "markdown",
   "metadata": {},
   "source": [
    "# **Identificación de videos corruptos**\n",
    "\n",
    "Al momento de realizar la extracción de caracteristicas de videos, el programa arrojó ciertos errores en algunos videos que no se pudieron procesar, esto videos se identifican en este *notebook*.\n",
    "\n",
    "## **Load packages**"
   ]
  },
  {
   "cell_type": "code",
   "execution_count": 5,
   "metadata": {},
   "outputs": [],
   "source": [
    "import pandas as pd\n",
    "import os"
   ]
  },
  {
   "cell_type": "markdown",
   "metadata": {},
   "source": [
    "## **Useful functions**"
   ]
  },
  {
   "cell_type": "code",
   "execution_count": 9,
   "metadata": {},
   "outputs": [],
   "source": [
    "def print_corrupted_videos(path: str, df:pd.DataFrame):\n",
    "\n",
    "    archivos = [\n",
    "        os.path.basename(f).split('_')[0]\n",
    "        for f in os.listdir(path) if f.endswith(\".npy\")\n",
    "    ]\n",
    "\n",
    "    df_a = pd.DataFrame({\"id\": archivos})\n",
    "\n",
    "    print(\"Longitud de los archivos:\", len(df_a))\n",
    "    print(\"Longitud del dataframe:\", len(df), \"\\n\")\n",
    "\n",
    "    if (len(df) == len(df_a)):\n",
    "        print(\"No hay videos corruptos\")\n",
    "        return;\n",
    "\n",
    "    for _, row in df.iterrows():\n",
    "        if row[\"youtube_id\"] not in df_a[\"id\"].values:\n",
    "            print(\"Video corrupto:\", row[\"youtube_id\"])\n"
   ]
  },
  {
   "cell_type": "markdown",
   "metadata": {},
   "source": [
    "## **Load datasets**"
   ]
  },
  {
   "cell_type": "code",
   "execution_count": 14,
   "metadata": {},
   "outputs": [],
   "source": [
    "train_path = \"./data/train_subset_10.csv\"\n",
    "val_path = \"./data/val_subset_10.csv\"\n",
    "test_path = \"./data/test_subset_10.csv\"\n",
    "\n",
    "path_train = './extraction/train/r21d/r2plus1d_18_16_kinetics'\n",
    "path_val = './extraction/val/r21d/r2plus1d_18_16_kinetics'\n",
    "path_test = './extraction/test/r21d/r2plus1d_18_16_kinetics'\n",
    "\n",
    "val_df = pd.read_csv(val_path)\n",
    "train_df = pd.read_csv(train_path)\n",
    "test_df = pd.read_csv(test_path)"
   ]
  },
  {
   "cell_type": "code",
   "execution_count": 10,
   "metadata": {},
   "outputs": [
    {
     "name": "stdout",
     "output_type": "stream",
     "text": [
      "Corrupted videos in train\n",
      "Longitud de los archivos: 5415\n",
      "Longitud del dataframe: 5432 \n",
      "\n",
      "Video corrupto: qJphTDHjvrc\n",
      "Video corrupto: 1azVHxhCCU0\n",
      "Video corrupto: E2kUsRIj4tM\n",
      "Video corrupto: jHODDw65G4A\n",
      "Video corrupto: fNFXTBUF3nY\n",
      "Video corrupto: 1IQCtz7ZUzo\n",
      "Video corrupto: 5hHJPNxhPAo\n",
      "Video corrupto: 67C9Qcv0LGw\n",
      "Video corrupto: Vpvs1HfG2PA\n",
      "Video corrupto: 91UPzK73iIQ\n",
      "Video corrupto: B3AFb5PV0Wg\n",
      "Video corrupto: dpoexBwVFWA\n",
      "Video corrupto: J5xNIJlfBAw\n",
      "Video corrupto: QtZDZIx3owM\n",
      "Video corrupto: myaj4rly0Rw\n",
      "Video corrupto: 6rxdq0ebecA\n",
      "Video corrupto: sRMphWVvP6U\n"
     ]
    }
   ],
   "source": [
    "print(\"Corrupted videos in train\")\n",
    "print_corrupted_videos(path_train, train_df)"
   ]
  },
  {
   "cell_type": "code",
   "execution_count": 12,
   "metadata": {},
   "outputs": [
    {
     "name": "stdout",
     "output_type": "stream",
     "text": [
      "Corrupted videos in val\n",
      "Longitud de los archivos: 426\n",
      "Longitud del dataframe: 427 \n",
      "\n",
      "Video corrupto: I0luMKjIZyg\n"
     ]
    }
   ],
   "source": [
    "print(\"Corrupted videos in val\")\n",
    "print_corrupted_videos(path_val, val_df)"
   ]
  },
  {
   "cell_type": "code",
   "execution_count": 15,
   "metadata": {},
   "outputs": [
    {
     "name": "stdout",
     "output_type": "stream",
     "text": [
      "Corrupted videos in test\n",
      "Longitud de los archivos: 805\n",
      "Longitud del dataframe: 805 \n",
      "\n",
      "No hay videos corruptos\n"
     ]
    }
   ],
   "source": [
    "print(\"Corrupted videos in test\")\n",
    "print_corrupted_videos(path_test, test_df)"
   ]
  },
  {
   "cell_type": "markdown",
   "metadata": {},
   "source": [
    "En la carpeta `corrupted videos` se encuentran los videos que no se pudieron procesar. Todos estos videos siguen dos patrones:\n",
    "1) Algunos videos no se pueden ni abrir, por lo cual es obvio que no hayan podido procesar.\n",
    "2) Algunos a pesar de que se pueden reproducir, el \"video\" que se observa es una pantalla en negro. \n",
    "\n",
    "Por otro lado, cuando se procesaron los videos, y se quizo aplicar la función `get_X_y_id(path: str, df:pd.DataFrame, is_train:bool=True, type:str=\"mean\"):` del notebook `dimensionality_reduction.ipynb`, identificamos un video al que se le extrajo un vector vacio de caracteristicas, buscamos este video (está en `corrupted_videos/extra`) y se trata de un video de 0 segundos, por lo que se asume que no se le pudo extaer caracteristicas debido a su corto tiempo"
   ]
  }
 ],
 "metadata": {
  "kernelspec": {
   "display_name": "Python 3",
   "language": "python",
   "name": "python3"
  },
  "language_info": {
   "codemirror_mode": {
    "name": "ipython",
    "version": 3
   },
   "file_extension": ".py",
   "mimetype": "text/x-python",
   "name": "python",
   "nbconvert_exporter": "python",
   "pygments_lexer": "ipython3",
   "version": "3.12.5"
  }
 },
 "nbformat": 4,
 "nbformat_minor": 2
}
