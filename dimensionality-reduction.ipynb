{
 "cells": [
  {
   "cell_type": "markdown",
   "metadata": {},
   "source": [
    "# **Dimensionality Reduction**\n",
    "\n",
    "En `video-features.ipynb` se pudo extraer las caracteristicas de los videos del dataset `test_subset_10.csv`, `train_subset_10.csv` y `val_subset_10.csv`, de manera que, cada vector característico se almacenó en un archivo `${youtube_id}.npy`(dentro de la carpeta 'extraction')\n",
    "\n",
    "## **Load packages**"
   ]
  },
  {
   "cell_type": "code",
   "execution_count": 26,
   "metadata": {},
   "outputs": [],
   "source": [
    "import numpy as np\n",
    "import pandas as pd\n",
    "from pathlib import Path"
   ]
  },
  {
   "cell_type": "code",
   "execution_count": 3,
   "metadata": {},
   "outputs": [],
   "source": [
    "train_path = \"./data/train_subset_10.csv\"\n",
    "val_path = \"./data/val_subset_10.csv\"\n",
    "test_path = \"./data/test_subset_10.csv\"\n",
    "\n",
    "train_df = pd.read_csv(train_path)\n",
    "val_df = pd.read_csv(val_path)\n",
    "test_df = pd.read_csv(test_path)"
   ]
  },
  {
   "cell_type": "code",
   "execution_count": 17,
   "metadata": {},
   "outputs": [],
   "source": [
    "def get_X_y_id(path: str, df:pd.DataFrame, is_train:bool=True):\n",
    "\n",
    "    \"\"\"\n",
    "    Description:\n",
    "        This function returns the feature_vectors, labels an ids of the videos\n",
    "\n",
    "    Args: \n",
    "        path (str): the path to the directory where the videos are located\n",
    "        df (pd.DataFrame): a DataFrame of Pandas, could be train_df, val_df or test_df\n",
    "        is_train (bool): if True, the function returns the feature_vectors, labels an ids of the videos\n",
    "\n",
    "    \"\"\"\n",
    "\n",
    "    feature_vectors = []\n",
    "    labels = []\n",
    "    ids = []\n",
    "\n",
    "    for video in Path(path).glob('*.npy'):\n",
    "        \n",
    "        id = os.path.basename(video).split('_')[0]\n",
    "\n",
    "        if id not in df['youtube_id'].values:\n",
    "            continue\n",
    "\n",
    "        current_video = np.load(video)\n",
    "        feature_vectors.append(np.mean(current_video, axis = 0)) # CHECK\n",
    "        ids.append(id)\n",
    "\n",
    "        if is_train:\n",
    "            labels.append(df[df['youtube_id'] == id]['label'].values[0])\n",
    "\n",
    "    feature_vectors = pd.DataFrame(np.vstack(feature_vectors))\n",
    "    ids = pd.DataFrame({'youtube_id': ids})\n",
    "    labels = pd.DataFrame(np.vstack(labels))\n",
    "\n",
    "    \n",
    "    if is_train:\n",
    "        return feature_vectors, labels, ids\n",
    "    else:\n",
    "        return feature_vectors, ids\n"
   ]
  },
  {
   "cell_type": "code",
   "execution_count": 19,
   "metadata": {},
   "outputs": [],
   "source": [
    "path_train = './extraction/train/r21d/r2plus1d_18_16_kinetics'\n",
    "path_val = './extraction/val/r21d/r2plus1d_18_16_kinetics'\n",
    "path_test = './extraction/test/r21d/r2plus1d_18_16_kinetics'\n"
   ]
  },
  {
   "cell_type": "code",
   "execution_count": 22,
   "metadata": {},
   "outputs": [],
   "source": [
    "# X_train, y_train, ids_train = get_X_y_id(path_train, train_df)\n",
    "X_val, y_val, ids_val = get_X_y_id(path_val, val_df)\n",
    "# X_test, y_test, ids_test = get_X_y_id(path_test, test_df, False)"
   ]
  },
  {
   "cell_type": "code",
   "execution_count": 23,
   "metadata": {},
   "outputs": [
    {
     "data": {
      "text/html": [
       "<div>\n",
       "<style scoped>\n",
       "    .dataframe tbody tr th:only-of-type {\n",
       "        vertical-align: middle;\n",
       "    }\n",
       "\n",
       "    .dataframe tbody tr th {\n",
       "        vertical-align: top;\n",
       "    }\n",
       "\n",
       "    .dataframe thead th {\n",
       "        text-align: right;\n",
       "    }\n",
       "</style>\n",
       "<table border=\"1\" class=\"dataframe\">\n",
       "  <thead>\n",
       "    <tr style=\"text-align: right;\">\n",
       "      <th></th>\n",
       "      <th>0</th>\n",
       "    </tr>\n",
       "  </thead>\n",
       "  <tbody>\n",
       "    <tr>\n",
       "      <th>0</th>\n",
       "      <td>flipping pancake</td>\n",
       "    </tr>\n",
       "    <tr>\n",
       "      <th>1</th>\n",
       "      <td>wrapping present</td>\n",
       "    </tr>\n",
       "    <tr>\n",
       "      <th>2</th>\n",
       "      <td>stretching leg</td>\n",
       "    </tr>\n",
       "    <tr>\n",
       "      <th>3</th>\n",
       "      <td>stretching leg</td>\n",
       "    </tr>\n",
       "    <tr>\n",
       "      <th>4</th>\n",
       "      <td>shot put</td>\n",
       "    </tr>\n",
       "  </tbody>\n",
       "</table>\n",
       "</div>"
      ],
      "text/plain": [
       "                  0\n",
       "0  flipping pancake\n",
       "1  wrapping present\n",
       "2    stretching leg\n",
       "3    stretching leg\n",
       "4          shot put"
      ]
     },
     "execution_count": 23,
     "metadata": {},
     "output_type": "execute_result"
    }
   ],
   "source": [
    "y_val.head()"
   ]
  },
  {
   "cell_type": "code",
   "execution_count": 24,
   "metadata": {},
   "outputs": [
    {
     "data": {
      "text/html": [
       "<div>\n",
       "<style scoped>\n",
       "    .dataframe tbody tr th:only-of-type {\n",
       "        vertical-align: middle;\n",
       "    }\n",
       "\n",
       "    .dataframe tbody tr th {\n",
       "        vertical-align: top;\n",
       "    }\n",
       "\n",
       "    .dataframe thead th {\n",
       "        text-align: right;\n",
       "    }\n",
       "</style>\n",
       "<table border=\"1\" class=\"dataframe\">\n",
       "  <thead>\n",
       "    <tr style=\"text-align: right;\">\n",
       "      <th></th>\n",
       "      <th>youtube_id</th>\n",
       "    </tr>\n",
       "  </thead>\n",
       "  <tbody>\n",
       "    <tr>\n",
       "      <th>0</th>\n",
       "      <td>--33Lscn6sk</td>\n",
       "    </tr>\n",
       "    <tr>\n",
       "      <th>1</th>\n",
       "      <td>-0WZKTu0xNk</td>\n",
       "    </tr>\n",
       "    <tr>\n",
       "      <th>2</th>\n",
       "      <td>-2VKVjgNuE0</td>\n",
       "    </tr>\n",
       "    <tr>\n",
       "      <th>3</th>\n",
       "      <td>-2VXhGGeOWg</td>\n",
       "    </tr>\n",
       "    <tr>\n",
       "      <th>4</th>\n",
       "      <td>-2zDnjMmI5U</td>\n",
       "    </tr>\n",
       "  </tbody>\n",
       "</table>\n",
       "</div>"
      ],
      "text/plain": [
       "    youtube_id\n",
       "0  --33Lscn6sk\n",
       "1  -0WZKTu0xNk\n",
       "2  -2VKVjgNuE0\n",
       "3  -2VXhGGeOWg\n",
       "4  -2zDnjMmI5U"
      ]
     },
     "execution_count": 24,
     "metadata": {},
     "output_type": "execute_result"
    }
   ],
   "source": [
    "ids_val.head()\n"
   ]
  },
  {
   "cell_type": "code",
   "execution_count": 25,
   "metadata": {},
   "outputs": [
    {
     "name": "stdout",
     "output_type": "stream",
     "text": [
      "(426, 512)\n",
      "(426, 1)\n",
      "(426, 1)\n"
     ]
    }
   ],
   "source": [
    "print(X_val.shape)\n",
    "print(y_val.shape)  \n",
    "print(ids_val.shape)"
   ]
  }
 ],
 "metadata": {
  "kernelspec": {
   "display_name": "Python 3",
   "language": "python",
   "name": "python3"
  },
  "language_info": {
   "codemirror_mode": {
    "name": "ipython",
    "version": 3
   },
   "file_extension": ".py",
   "mimetype": "text/x-python",
   "name": "python",
   "nbconvert_exporter": "python",
   "pygments_lexer": "ipython3",
   "version": "3.12.5"
  }
 },
 "nbformat": 4,
 "nbformat_minor": 2
}
