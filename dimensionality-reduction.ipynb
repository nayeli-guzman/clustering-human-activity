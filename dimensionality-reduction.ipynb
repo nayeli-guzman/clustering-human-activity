{
 "cells": [
  {
   "cell_type": "markdown",
   "metadata": {},
   "source": [
    "# **Dimensionality Reduction**\n",
    "\n",
    "En `video-features.ipynb` se pudo extraer las caracteristicas de los videos del dataset `test_subset_10.csv`, `train_subset_10.csv` y `val_subset_10.csv`, de manera que, cada vector característico se almacenó en un archivo `${youtube_id}.npy`(dentro de la carpeta 'extraction')\n",
    "\n",
    "## **Load packages**"
   ]
  },
  {
   "cell_type": "code",
   "execution_count": 3,
   "metadata": {},
   "outputs": [],
   "source": [
    "import numpy as np\n",
    "import pandas as pd\n",
    "import matplotlib.pyplot as plt\n",
    "from pathlib import Path\n",
    "import os"
   ]
  },
  {
   "cell_type": "markdown",
   "metadata": {},
   "source": [
    "## **Load datasets**"
   ]
  },
  {
   "cell_type": "code",
   "execution_count": 4,
   "metadata": {},
   "outputs": [],
   "source": [
    "train_path = \"./data/train_subset_10.csv\"\n",
    "val_path = \"./data/val_subset_10.csv\"\n",
    "test_path = \"./data/test_subset_10.csv\"\n",
    "\n",
    "train_df = pd.read_csv(train_path)\n",
    "val_df = pd.read_csv(val_path)\n",
    "test_df = pd.read_csv(test_path)"
   ]
  },
  {
   "cell_type": "markdown",
   "metadata": {},
   "source": [
    "## **Useful functions**"
   ]
  },
  {
   "cell_type": "code",
   "execution_count": 5,
   "metadata": {},
   "outputs": [],
   "source": [
    "def get_X_y_id(path: str, df:pd.DataFrame, is_train:bool=True):\n",
    "\n",
    "    \"\"\"\n",
    "    Description:\n",
    "        This function returns the feature_vectors, labels an ids of the videos\n",
    "\n",
    "    Args: \n",
    "        path (str): the path to the directory where the videos are located\n",
    "        df (pd.DataFrame): a DataFrame of Pandas, could be train_df, val_df or test_df\n",
    "        is_train (bool): if True, the function returns the feature_vectors, labels an ids of the videos\n",
    "\n",
    "    \"\"\"\n",
    "\n",
    "    feature_vectors = []\n",
    "    labels = []\n",
    "    ids = []\n",
    "\n",
    "    for video in Path(path).glob('*.npy'):\n",
    "        \n",
    "        id = os.path.basename(video).split('_')[0]\n",
    "\n",
    "        if id not in df['youtube_id'].values:\n",
    "            continue\n",
    "\n",
    "        current_video = np.load(video)\n",
    "\n",
    "        if len(current_video.shape) <= 1:\n",
    "            continue\n",
    "        \n",
    "        feature_vectors.append(np.mean(current_video, axis = 0)) # CHECK\n",
    "        ids.append(id)\n",
    "\n",
    "        if is_train:\n",
    "            labels.append(df[df['youtube_id'] == id]['label'].values[0])\n",
    "\n",
    "    feature_vectors = pd.DataFrame(np.vstack(feature_vectors))\n",
    "    ids = pd.DataFrame({'youtube_id': ids})\n",
    "    \n",
    "    if is_train:\n",
    "        labels = pd.DataFrame(np.vstack(labels))\n",
    "        return feature_vectors, labels, ids\n",
    "    else:\n",
    "        return feature_vectors, ids\n"
   ]
  },
  {
   "cell_type": "code",
   "execution_count": 6,
   "metadata": {},
   "outputs": [],
   "source": [
    "path_train = './extraction/train/r21d/r2plus1d_18_16_kinetics'\n",
    "path_val = './extraction/val/r21d/r2plus1d_18_16_kinetics'\n",
    "path_test = './extraction/test/r21d/r2plus1d_18_16_kinetics'"
   ]
  },
  {
   "cell_type": "code",
   "execution_count": 7,
   "metadata": {},
   "outputs": [],
   "source": [
    "X_train, y_train, ids_train = get_X_y_id(path_train, train_df)\n",
    "X_val, y_val, ids_val = get_X_y_id(path_val, val_df)\n",
    "X_test, ids_test = get_X_y_id(path_test, test_df, False)"
   ]
  },
  {
   "cell_type": "code",
   "execution_count": 8,
   "metadata": {},
   "outputs": [
    {
     "data": {
      "text/html": [
       "<div>\n",
       "<style scoped>\n",
       "    .dataframe tbody tr th:only-of-type {\n",
       "        vertical-align: middle;\n",
       "    }\n",
       "\n",
       "    .dataframe tbody tr th {\n",
       "        vertical-align: top;\n",
       "    }\n",
       "\n",
       "    .dataframe thead th {\n",
       "        text-align: right;\n",
       "    }\n",
       "</style>\n",
       "<table border=\"1\" class=\"dataframe\">\n",
       "  <thead>\n",
       "    <tr style=\"text-align: right;\">\n",
       "      <th></th>\n",
       "      <th>0</th>\n",
       "      <th>1</th>\n",
       "      <th>2</th>\n",
       "      <th>3</th>\n",
       "      <th>4</th>\n",
       "      <th>5</th>\n",
       "      <th>6</th>\n",
       "      <th>7</th>\n",
       "      <th>8</th>\n",
       "      <th>9</th>\n",
       "      <th>...</th>\n",
       "      <th>502</th>\n",
       "      <th>503</th>\n",
       "      <th>504</th>\n",
       "      <th>505</th>\n",
       "      <th>506</th>\n",
       "      <th>507</th>\n",
       "      <th>508</th>\n",
       "      <th>509</th>\n",
       "      <th>510</th>\n",
       "      <th>511</th>\n",
       "    </tr>\n",
       "  </thead>\n",
       "  <tbody>\n",
       "    <tr>\n",
       "      <th>0</th>\n",
       "      <td>0.983179</td>\n",
       "      <td>0.327599</td>\n",
       "      <td>0.782543</td>\n",
       "      <td>1.001214</td>\n",
       "      <td>1.577275</td>\n",
       "      <td>0.340752</td>\n",
       "      <td>1.618470</td>\n",
       "      <td>1.223442</td>\n",
       "      <td>0.823669</td>\n",
       "      <td>0.681321</td>\n",
       "      <td>...</td>\n",
       "      <td>0.737517</td>\n",
       "      <td>0.705552</td>\n",
       "      <td>1.096622</td>\n",
       "      <td>0.711036</td>\n",
       "      <td>0.974399</td>\n",
       "      <td>0.668527</td>\n",
       "      <td>0.925978</td>\n",
       "      <td>0.582594</td>\n",
       "      <td>1.312039</td>\n",
       "      <td>2.023441</td>\n",
       "    </tr>\n",
       "    <tr>\n",
       "      <th>1</th>\n",
       "      <td>1.061987</td>\n",
       "      <td>0.605783</td>\n",
       "      <td>0.573484</td>\n",
       "      <td>0.550123</td>\n",
       "      <td>1.083703</td>\n",
       "      <td>0.436514</td>\n",
       "      <td>0.986723</td>\n",
       "      <td>0.237259</td>\n",
       "      <td>0.870769</td>\n",
       "      <td>0.636464</td>\n",
       "      <td>...</td>\n",
       "      <td>0.710814</td>\n",
       "      <td>1.498515</td>\n",
       "      <td>0.875496</td>\n",
       "      <td>1.125336</td>\n",
       "      <td>2.201024</td>\n",
       "      <td>1.377259</td>\n",
       "      <td>1.261040</td>\n",
       "      <td>0.406046</td>\n",
       "      <td>0.522262</td>\n",
       "      <td>0.986933</td>\n",
       "    </tr>\n",
       "    <tr>\n",
       "      <th>2</th>\n",
       "      <td>2.448404</td>\n",
       "      <td>1.147437</td>\n",
       "      <td>1.186966</td>\n",
       "      <td>0.792676</td>\n",
       "      <td>0.788874</td>\n",
       "      <td>0.292240</td>\n",
       "      <td>0.791563</td>\n",
       "      <td>0.512280</td>\n",
       "      <td>0.616745</td>\n",
       "      <td>0.588685</td>\n",
       "      <td>...</td>\n",
       "      <td>1.055853</td>\n",
       "      <td>1.433681</td>\n",
       "      <td>2.381611</td>\n",
       "      <td>0.469194</td>\n",
       "      <td>0.610362</td>\n",
       "      <td>2.227937</td>\n",
       "      <td>1.419250</td>\n",
       "      <td>0.234973</td>\n",
       "      <td>0.533393</td>\n",
       "      <td>0.299416</td>\n",
       "    </tr>\n",
       "    <tr>\n",
       "      <th>3</th>\n",
       "      <td>0.312113</td>\n",
       "      <td>0.368528</td>\n",
       "      <td>0.241799</td>\n",
       "      <td>0.789037</td>\n",
       "      <td>0.732306</td>\n",
       "      <td>0.635243</td>\n",
       "      <td>1.188323</td>\n",
       "      <td>0.714574</td>\n",
       "      <td>1.577718</td>\n",
       "      <td>1.490716</td>\n",
       "      <td>...</td>\n",
       "      <td>1.056502</td>\n",
       "      <td>0.055957</td>\n",
       "      <td>1.616206</td>\n",
       "      <td>1.442354</td>\n",
       "      <td>0.660173</td>\n",
       "      <td>0.921523</td>\n",
       "      <td>0.043679</td>\n",
       "      <td>0.595073</td>\n",
       "      <td>1.019820</td>\n",
       "      <td>0.219829</td>\n",
       "    </tr>\n",
       "    <tr>\n",
       "      <th>4</th>\n",
       "      <td>0.232415</td>\n",
       "      <td>0.736968</td>\n",
       "      <td>0.989492</td>\n",
       "      <td>0.516418</td>\n",
       "      <td>0.407583</td>\n",
       "      <td>0.240481</td>\n",
       "      <td>0.723166</td>\n",
       "      <td>1.121362</td>\n",
       "      <td>0.571783</td>\n",
       "      <td>0.914052</td>\n",
       "      <td>...</td>\n",
       "      <td>0.694645</td>\n",
       "      <td>0.176282</td>\n",
       "      <td>0.564752</td>\n",
       "      <td>1.375056</td>\n",
       "      <td>0.592111</td>\n",
       "      <td>0.756491</td>\n",
       "      <td>0.426875</td>\n",
       "      <td>0.457333</td>\n",
       "      <td>1.180734</td>\n",
       "      <td>0.757165</td>\n",
       "    </tr>\n",
       "  </tbody>\n",
       "</table>\n",
       "<p>5 rows × 512 columns</p>\n",
       "</div>"
      ],
      "text/plain": [
       "        0         1         2         3         4         5         6    \\\n",
       "0  0.983179  0.327599  0.782543  1.001214  1.577275  0.340752  1.618470   \n",
       "1  1.061987  0.605783  0.573484  0.550123  1.083703  0.436514  0.986723   \n",
       "2  2.448404  1.147437  1.186966  0.792676  0.788874  0.292240  0.791563   \n",
       "3  0.312113  0.368528  0.241799  0.789037  0.732306  0.635243  1.188323   \n",
       "4  0.232415  0.736968  0.989492  0.516418  0.407583  0.240481  0.723166   \n",
       "\n",
       "        7         8         9    ...       502       503       504       505  \\\n",
       "0  1.223442  0.823669  0.681321  ...  0.737517  0.705552  1.096622  0.711036   \n",
       "1  0.237259  0.870769  0.636464  ...  0.710814  1.498515  0.875496  1.125336   \n",
       "2  0.512280  0.616745  0.588685  ...  1.055853  1.433681  2.381611  0.469194   \n",
       "3  0.714574  1.577718  1.490716  ...  1.056502  0.055957  1.616206  1.442354   \n",
       "4  1.121362  0.571783  0.914052  ...  0.694645  0.176282  0.564752  1.375056   \n",
       "\n",
       "        506       507       508       509       510       511  \n",
       "0  0.974399  0.668527  0.925978  0.582594  1.312039  2.023441  \n",
       "1  2.201024  1.377259  1.261040  0.406046  0.522262  0.986933  \n",
       "2  0.610362  2.227937  1.419250  0.234973  0.533393  0.299416  \n",
       "3  0.660173  0.921523  0.043679  0.595073  1.019820  0.219829  \n",
       "4  0.592111  0.756491  0.426875  0.457333  1.180734  0.757165  \n",
       "\n",
       "[5 rows x 512 columns]"
      ]
     },
     "execution_count": 8,
     "metadata": {},
     "output_type": "execute_result"
    }
   ],
   "source": [
    "X_val.head()"
   ]
  },
  {
   "cell_type": "code",
   "execution_count": 9,
   "metadata": {},
   "outputs": [
    {
     "data": {
      "text/html": [
       "<div>\n",
       "<style scoped>\n",
       "    .dataframe tbody tr th:only-of-type {\n",
       "        vertical-align: middle;\n",
       "    }\n",
       "\n",
       "    .dataframe tbody tr th {\n",
       "        vertical-align: top;\n",
       "    }\n",
       "\n",
       "    .dataframe thead th {\n",
       "        text-align: right;\n",
       "    }\n",
       "</style>\n",
       "<table border=\"1\" class=\"dataframe\">\n",
       "  <thead>\n",
       "    <tr style=\"text-align: right;\">\n",
       "      <th></th>\n",
       "      <th>0</th>\n",
       "    </tr>\n",
       "  </thead>\n",
       "  <tbody>\n",
       "    <tr>\n",
       "      <th>0</th>\n",
       "      <td>flipping pancake</td>\n",
       "    </tr>\n",
       "    <tr>\n",
       "      <th>1</th>\n",
       "      <td>wrapping present</td>\n",
       "    </tr>\n",
       "    <tr>\n",
       "      <th>2</th>\n",
       "      <td>stretching leg</td>\n",
       "    </tr>\n",
       "    <tr>\n",
       "      <th>3</th>\n",
       "      <td>stretching leg</td>\n",
       "    </tr>\n",
       "    <tr>\n",
       "      <th>4</th>\n",
       "      <td>shot put</td>\n",
       "    </tr>\n",
       "  </tbody>\n",
       "</table>\n",
       "</div>"
      ],
      "text/plain": [
       "                  0\n",
       "0  flipping pancake\n",
       "1  wrapping present\n",
       "2    stretching leg\n",
       "3    stretching leg\n",
       "4          shot put"
      ]
     },
     "execution_count": 9,
     "metadata": {},
     "output_type": "execute_result"
    }
   ],
   "source": [
    "y_val.head()"
   ]
  },
  {
   "cell_type": "code",
   "execution_count": 10,
   "metadata": {},
   "outputs": [
    {
     "data": {
      "text/html": [
       "<div>\n",
       "<style scoped>\n",
       "    .dataframe tbody tr th:only-of-type {\n",
       "        vertical-align: middle;\n",
       "    }\n",
       "\n",
       "    .dataframe tbody tr th {\n",
       "        vertical-align: top;\n",
       "    }\n",
       "\n",
       "    .dataframe thead th {\n",
       "        text-align: right;\n",
       "    }\n",
       "</style>\n",
       "<table border=\"1\" class=\"dataframe\">\n",
       "  <thead>\n",
       "    <tr style=\"text-align: right;\">\n",
       "      <th></th>\n",
       "      <th>youtube_id</th>\n",
       "    </tr>\n",
       "  </thead>\n",
       "  <tbody>\n",
       "    <tr>\n",
       "      <th>0</th>\n",
       "      <td>--33Lscn6sk</td>\n",
       "    </tr>\n",
       "    <tr>\n",
       "      <th>1</th>\n",
       "      <td>-0WZKTu0xNk</td>\n",
       "    </tr>\n",
       "    <tr>\n",
       "      <th>2</th>\n",
       "      <td>-2VKVjgNuE0</td>\n",
       "    </tr>\n",
       "    <tr>\n",
       "      <th>3</th>\n",
       "      <td>-2VXhGGeOWg</td>\n",
       "    </tr>\n",
       "    <tr>\n",
       "      <th>4</th>\n",
       "      <td>-2zDnjMmI5U</td>\n",
       "    </tr>\n",
       "  </tbody>\n",
       "</table>\n",
       "</div>"
      ],
      "text/plain": [
       "    youtube_id\n",
       "0  --33Lscn6sk\n",
       "1  -0WZKTu0xNk\n",
       "2  -2VKVjgNuE0\n",
       "3  -2VXhGGeOWg\n",
       "4  -2zDnjMmI5U"
      ]
     },
     "execution_count": 10,
     "metadata": {},
     "output_type": "execute_result"
    }
   ],
   "source": [
    "ids_val.head()\n"
   ]
  },
  {
   "cell_type": "markdown",
   "metadata": {},
   "source": [
    "De esta manera, la fila 0 de X, y, id se corresponden, lo mismo para la fila 1, 2, ..."
   ]
  },
  {
   "cell_type": "code",
   "execution_count": 11,
   "metadata": {},
   "outputs": [
    {
     "name": "stdout",
     "output_type": "stream",
     "text": [
      "Shape de la matriz de training: (5414, 512)\n",
      "Size de los labels de training: (5414, 1)\n",
      "Size de los ids de training: (5414, 1)\n",
      "\n",
      "Shape de la matriz de validation: (426, 512)\n",
      "Size de los labels de validation: (426, 1)\n",
      "Size de los ids de validation: (426, 1)\n",
      "\n",
      "Shape de la matriz de testing: (805, 512)\n",
      "Size de los ids de testing: (805, 1)\n"
     ]
    }
   ],
   "source": [
    "print(f\"Shape de la matriz de training: {X_train.shape}\")\n",
    "print(f\"Size de los labels de training: {y_train.shape}\")\n",
    "print(f\"Size de los ids de training: {ids_train.shape}\\n\")\n",
    "\n",
    "print(f\"Shape de la matriz de validation: {X_val.shape}\")\n",
    "print(f\"Size de los labels de validation: {y_val.shape}\")\n",
    "print(f\"Size de los ids de validation: {ids_val.shape}\\n\")\n",
    "\n",
    "print(f\"Shape de la matriz de testing: {X_test.shape}\")\n",
    "print(f\"Size de los ids de testing: {ids_test.shape}\")\n"
   ]
  },
  {
   "cell_type": "markdown",
   "metadata": {},
   "source": [
    "## **Utils: Save and load processed (averaged) features**\n",
    "\n",
    "Guardar los features promediados en archivos npz, para poder cargarlos cada vez que se necesiten."
   ]
  },
  {
   "cell_type": "code",
   "execution_count": 12,
   "metadata": {},
   "outputs": [],
   "source": [
    "def save_df_as_npz(directory, filename, features, ids, labels=None):\n",
    "    \"\"\"\n",
    "    Description:\n",
    "        This function saves the feature vectors, ids and labels as npz files.\n",
    "        Ej: en test.npz estará una matriz con los features y un array con sus\n",
    "        respectivas labels.\n",
    "\n",
    "    Args: \n",
    "        features (pd.DataFrame): the feature vectors\n",
    "        labels (pd.DataFrame): the labels\n",
    "        directory (str): the directory where the npz files will be saved\n",
    "        filename (str): the name of the npz file\n",
    "\n",
    "    \"\"\"\n",
    "    features = features.to_numpy()\n",
    "    ids = ids.to_numpy()\n",
    "    if labels is not None:\n",
    "        labels= labels.to_numpy()\n",
    "        np.savez(os.path.join(directory, filename), features=features, ids=ids, labels=labels)\n",
    "    else:\n",
    "        np.savez(os.path.join(directory, filename), features=features, ids=ids)\n",
    "\n",
    "def load_features_ids_labels(filename, has_labels=True):\n",
    "    \"\"\"\n",
    "    Description:\n",
    "        Cargar los features, ids y labels de un archivo npz.\n",
    "        Si es data de testeo, has_labels=False\n",
    "    \"\"\"\n",
    "    contents = np.load(filename, allow_pickle=True)\n",
    "    features = contents['features']\n",
    "    ids = contents['ids']\n",
    "    if has_labels:\n",
    "        labels = contents['labels']\n",
    "        return features, ids, labels\n",
    "    return features, ids"
   ]
  },
  {
   "cell_type": "code",
   "execution_count": 13,
   "metadata": {},
   "outputs": [],
   "source": [
    "# Guardar (crear carpeta 'features_np' si no existe)\n",
    "# Validation\n",
    "save_df_as_npz(features=X_val, ids=ids_val, labels=y_val, directory='features_np', filename='features_val.npz')\n",
    "# Test\n",
    "# save_df_as_npz(directory='features_np', filename='features_test.npz', features=X_test, ids=ids_test)\n",
    "# Train\n",
    "# save_df_as_npz(directory='features_np', filename='features_train.npz', features=X_train, ids=ids_train, labels=y_train)\n"
   ]
  },
  {
   "cell_type": "code",
   "execution_count": 14,
   "metadata": {},
   "outputs": [],
   "source": [
    "# Ejemplo para cargar los features guardados\n",
    "X_val_np, ids_val_np, y_val_np = load_features_ids_labels(filename='features_np/features_val.npz', has_labels=True)"
   ]
  },
  {
   "cell_type": "markdown",
   "metadata": {},
   "source": [
    "## **Reduce dimensionality**\n",
    "\n",
    "Con los features ya procesados, probar técnicas de reducción de dimensionalidad"
   ]
  },
  {
   "cell_type": "code",
   "execution_count": 16,
   "metadata": {},
   "outputs": [],
   "source": [
    "from sklearn.preprocessing import StandardScaler\n",
    "from sklearn.manifold import TSNE\n",
    "from sklearn.decomposition import PCA\n",
    "from sklearn.discriminant_analysis import LinearDiscriminantAnalysis\n",
    "import matplotlib.pyplot as plt"
   ]
  },
  {
   "cell_type": "markdown",
   "metadata": {},
   "source": [
    "### **t-SNE**"
   ]
  },
  {
   "cell_type": "code",
   "execution_count": 17,
   "metadata": {},
   "outputs": [
    {
     "name": "stdout",
     "output_type": "stream",
     "text": [
      "Shape after t-SNE w/ 2 components: (426, 2)\n"
     ]
    },
    {
     "data": {
      "text/plain": [
       "Text(0.5, 1.0, 'Scatterplot after t-SNE')"
      ]
     },
     "execution_count": 17,
     "metadata": {},
     "output_type": "execute_result"
    },
    {
     "data": {
      "image/png": "[encoded data removed]",
      "text/plain": [
       "<Figure size 640x480 with 1 Axes>"
      ]
     },
     "metadata": {},
     "output_type": "display_data"
    }
   ],
   "source": [
    "tsne = TSNE(n_components=2, learning_rate='auto', init='random', random_state=0, perplexity=10)\n",
    "val_tsne = tsne.fit_transform(X_val_np)\n",
    "print(\"Shape after t-SNE w/ 2 components:\", val_tsne.shape)\n",
    "\n",
    "plt.scatter(val_tsne[:, 0], val_tsne[:, 1])\n",
    "plt.title('Scatterplot after t-SNE')"
   ]
  },
  {
   "cell_type": "markdown",
   "metadata": {},
   "source": [
    "### **PCA**"
   ]
  },
  {
   "cell_type": "code",
   "execution_count": 18,
   "metadata": {},
   "outputs": [
    {
     "name": "stdout",
     "output_type": "stream",
     "text": [
      "Shape after PCA w/ 2 components: (426, 2)\n"
     ]
    },
    {
     "data": {
      "text/plain": [
       "Text(0.5, 1.0, 'Scatterplot after PCA')"
      ]
     },
     "execution_count": 18,
     "metadata": {},
     "output_type": "execute_result"
    },
    {
     "data": {
      "image/png": "[encoded data removed]",
      "text/plain": [
       "<Figure size 640x480 with 1 Axes>"
      ]
     },
     "metadata": {},
     "output_type": "display_data"
    }
   ],
   "source": [
    "pca = PCA(n_components=2)\n",
    "val_pca = pca.fit_transform(X_val_np)\n",
    "print(\"Shape after PCA w/ 2 components:\", val_pca.shape)\n",
    "\n",
    "plt.scatter(val_pca[:, 0], val_pca[:, 1])\n",
    "plt.title('Scatterplot after PCA')"
   ]
  },
  {
   "cell_type": "markdown",
   "metadata": {},
   "source": [
    "### **LDA**"
   ]
  },
  {
   "cell_type": "code",
   "execution_count": 19,
   "metadata": {},
   "outputs": [
    {
     "name": "stdout",
     "output_type": "stream",
     "text": [
      "shape of LDA: (426, 2)\n"
     ]
    },
    {
     "data": {
      "text/plain": [
       "Text(0.5, 1.0, 'Scatterplot after LDA')"
      ]
     },
     "execution_count": 19,
     "metadata": {},
     "output_type": "execute_result"
    },
    {
     "data": {
      "image/png": "[encoded data removed]",
      "text/plain": [
       "<Figure size 640x480 with 1 Axes>"
      ]
     },
     "metadata": {},
     "output_type": "display_data"
    }
   ],
   "source": [
    "lda = LinearDiscriminantAnalysis(n_components=2)\n",
    "val_lda = lda.fit_transform(X_val_np, y_val_np.flatten())\n",
    "print('shape of LDA:', val_lda.shape)\n",
    "\n",
    "plt.scatter(val_lda[:, 0], val_lda[:, 1])\n",
    "plt.title('Scatterplot after LDA')"
   ]
  }
 ],
 "metadata": {
  "kernelspec": {
   "display_name": "Python 3",
   "language": "python",
   "name": "python3"
  },
  "language_info": {
   "codemirror_mode": {
    "name": "ipython",
    "version": 3
   },
   "file_extension": ".py",
   "mimetype": "text/x-python",
   "name": "python",
   "nbconvert_exporter": "python",
   "pygments_lexer": "ipython3",
   "version": "3.12.5"
  }
 },
 "nbformat": 4,
 "nbformat_minor": 2
}
