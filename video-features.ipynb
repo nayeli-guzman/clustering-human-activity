{
 "cells": [
  {
   "cell_type": "markdown",
   "metadata": {},
   "source": [
    "# **Clustering | Human Activity**\n",
    "\n",
    "## **Load packages**"
   ]
  },
  {
   "cell_type": "code",
   "execution_count": 1,
   "metadata": {},
   "outputs": [],
   "source": [
    "import pandas as pd\n",
    "import os"
   ]
  },
  {
   "cell_type": "markdown",
   "metadata": {},
   "source": [
    "## **Load datasets**"
   ]
  },
  {
   "cell_type": "code",
   "execution_count": 2,
   "metadata": {},
   "outputs": [],
   "source": [
    "train_path = \"./data/train_subset_10.csv\"\n",
    "val_path = \"./data/val_subset_10.csv\"\n",
    "test_path = \"./data/test_subset_10.csv\"\n",
    "\n",
    "train_df = pd.read_csv(train_path)\n",
    "val_df = pd.read_csv(val_path)\n",
    "test_df = pd.read_csv(test_path)"
   ]
  },
  {
   "cell_type": "code",
   "execution_count": 3,
   "metadata": {},
   "outputs": [
    {
     "data": {
      "text/html": [
       "<div>\n",
       "<style scoped>\n",
       "    .dataframe tbody tr th:only-of-type {\n",
       "        vertical-align: middle;\n",
       "    }\n",
       "\n",
       "    .dataframe tbody tr th {\n",
       "        vertical-align: top;\n",
       "    }\n",
       "\n",
       "    .dataframe thead th {\n",
       "        text-align: right;\n",
       "    }\n",
       "</style>\n",
       "<table border=\"1\" class=\"dataframe\">\n",
       "  <thead>\n",
       "    <tr style=\"text-align: right;\">\n",
       "      <th></th>\n",
       "      <th>youtube_id</th>\n",
       "      <th>label</th>\n",
       "    </tr>\n",
       "  </thead>\n",
       "  <tbody>\n",
       "    <tr>\n",
       "      <th>0</th>\n",
       "      <td>zeIkGEHK46I</td>\n",
       "      <td>riding camel</td>\n",
       "    </tr>\n",
       "    <tr>\n",
       "      <th>1</th>\n",
       "      <td>-Fwy8NwefTk</td>\n",
       "      <td>shot put</td>\n",
       "    </tr>\n",
       "    <tr>\n",
       "      <th>2</th>\n",
       "      <td>sDD0p8h88rI</td>\n",
       "      <td>dying hair</td>\n",
       "    </tr>\n",
       "    <tr>\n",
       "      <th>3</th>\n",
       "      <td>09AinCnKAE8</td>\n",
       "      <td>riding camel</td>\n",
       "    </tr>\n",
       "    <tr>\n",
       "      <th>4</th>\n",
       "      <td>qyTDZajMSqQ</td>\n",
       "      <td>baking cookies</td>\n",
       "    </tr>\n",
       "  </tbody>\n",
       "</table>\n",
       "</div>"
      ],
      "text/plain": [
       "    youtube_id           label\n",
       "0  zeIkGEHK46I    riding camel\n",
       "1  -Fwy8NwefTk        shot put\n",
       "2  sDD0p8h88rI      dying hair\n",
       "3  09AinCnKAE8    riding camel\n",
       "4  qyTDZajMSqQ  baking cookies"
      ]
     },
     "execution_count": 3,
     "metadata": {},
     "output_type": "execute_result"
    }
   ],
   "source": [
    "train_df.head()"
   ]
  },
  {
   "cell_type": "code",
   "execution_count": 4,
   "metadata": {},
   "outputs": [
    {
     "data": {
      "text/html": [
       "<div>\n",
       "<style scoped>\n",
       "    .dataframe tbody tr th:only-of-type {\n",
       "        vertical-align: middle;\n",
       "    }\n",
       "\n",
       "    .dataframe tbody tr th {\n",
       "        vertical-align: top;\n",
       "    }\n",
       "\n",
       "    .dataframe thead th {\n",
       "        text-align: right;\n",
       "    }\n",
       "</style>\n",
       "<table border=\"1\" class=\"dataframe\">\n",
       "  <thead>\n",
       "    <tr style=\"text-align: right;\">\n",
       "      <th></th>\n",
       "      <th>youtube_id</th>\n",
       "      <th>label</th>\n",
       "    </tr>\n",
       "  </thead>\n",
       "  <tbody>\n",
       "    <tr>\n",
       "      <th>0</th>\n",
       "      <td>9QMlwdR8Olg</td>\n",
       "      <td>shot put</td>\n",
       "    </tr>\n",
       "    <tr>\n",
       "      <th>1</th>\n",
       "      <td>fkSOwCyCmOo</td>\n",
       "      <td>shot put</td>\n",
       "    </tr>\n",
       "    <tr>\n",
       "      <th>2</th>\n",
       "      <td>IoDjDQTv-q0</td>\n",
       "      <td>balloon blowing</td>\n",
       "    </tr>\n",
       "    <tr>\n",
       "      <th>3</th>\n",
       "      <td>eI69j2uheYo</td>\n",
       "      <td>balloon blowing</td>\n",
       "    </tr>\n",
       "    <tr>\n",
       "      <th>4</th>\n",
       "      <td>Xchd-YBUVY4</td>\n",
       "      <td>spraying</td>\n",
       "    </tr>\n",
       "  </tbody>\n",
       "</table>\n",
       "</div>"
      ],
      "text/plain": [
       "    youtube_id            label\n",
       "0  9QMlwdR8Olg         shot put\n",
       "1  fkSOwCyCmOo         shot put\n",
       "2  IoDjDQTv-q0  balloon blowing\n",
       "3  eI69j2uheYo  balloon blowing\n",
       "4  Xchd-YBUVY4         spraying"
      ]
     },
     "execution_count": 4,
     "metadata": {},
     "output_type": "execute_result"
    }
   ],
   "source": [
    "val_df.head()"
   ]
  },
  {
   "cell_type": "code",
   "execution_count": 5,
   "metadata": {},
   "outputs": [
    {
     "data": {
      "text/html": [
       "<div>\n",
       "<style scoped>\n",
       "    .dataframe tbody tr th:only-of-type {\n",
       "        vertical-align: middle;\n",
       "    }\n",
       "\n",
       "    .dataframe tbody tr th {\n",
       "        vertical-align: top;\n",
       "    }\n",
       "\n",
       "    .dataframe thead th {\n",
       "        text-align: right;\n",
       "    }\n",
       "</style>\n",
       "<table border=\"1\" class=\"dataframe\">\n",
       "  <thead>\n",
       "    <tr style=\"text-align: right;\">\n",
       "      <th></th>\n",
       "      <th>youtube_id</th>\n",
       "    </tr>\n",
       "  </thead>\n",
       "  <tbody>\n",
       "    <tr>\n",
       "      <th>0</th>\n",
       "      <td>oaVWnxlQOeo</td>\n",
       "    </tr>\n",
       "    <tr>\n",
       "      <th>1</th>\n",
       "      <td>7zMBk9Zu9fY</td>\n",
       "    </tr>\n",
       "    <tr>\n",
       "      <th>2</th>\n",
       "      <td>DwPEZeX5WkA</td>\n",
       "    </tr>\n",
       "    <tr>\n",
       "      <th>3</th>\n",
       "      <td>bO1MW9Lq9Sg</td>\n",
       "    </tr>\n",
       "    <tr>\n",
       "      <th>4</th>\n",
       "      <td>TdBpD9Ccg9w</td>\n",
       "    </tr>\n",
       "  </tbody>\n",
       "</table>\n",
       "</div>"
      ],
      "text/plain": [
       "    youtube_id\n",
       "0  oaVWnxlQOeo\n",
       "1  7zMBk9Zu9fY\n",
       "2  DwPEZeX5WkA\n",
       "3  bO1MW9Lq9Sg\n",
       "4  TdBpD9Ccg9w"
      ]
     },
     "execution_count": 5,
     "metadata": {},
     "output_type": "execute_result"
    }
   ],
   "source": [
    "test_df.head()"
   ]
  },
  {
   "cell_type": "markdown",
   "metadata": {},
   "source": [
    "## **Useful functions**"
   ]
  },
  {
   "cell_type": "code",
   "execution_count": 6,
   "metadata": {},
   "outputs": [],
   "source": [
    "\n",
    "def rename_files(directories: list[str]):\n",
    "\n",
    "    \"\"\"\n",
    "\n",
    "    Description:\n",
    "        This function renames files, just keeping the id of the video\n",
    "\n",
    "    Args:\n",
    "        directories (list[str]): array of str, where each str is the local path to a directory, these directories contain videos .mp4\n",
    "    \n",
    "    \"\"\"\n",
    "\n",
    "    print(\"Starting renaming process...\\n\")\n",
    "\n",
    "    for directory in directories:\n",
    "\n",
    "        print(f\"Renaming process for {directory} started.\")\n",
    "        \n",
    "        for filename in os.listdir(directory): # archives inside of the curret directory\n",
    "            if filename.endswith(\".mp4\") and '_' in filename: # if the file is a video with an _\n",
    "\n",
    "                id = filename.split('_')[0] # extract just the id\n",
    "                new_filename = f\"{id}.mp4\" # concat just the id w '.mp4'\n",
    "\n",
    "                old_file = os.path.join(directory, filename) # path to the old file\n",
    "                new_file = os.path.join(directory, new_filename) # path to the new file\n",
    "                \n",
    "                os.rename(old_file, new_file) # rename videos w just its id\n",
    "        \n",
    "        print(f\"Renaming process for {directory} completed.\")"
   ]
  },
  {
   "cell_type": "code",
   "execution_count": 20,
   "metadata": {},
   "outputs": [],
   "source": [
    "def write_video_paths_txt(df:pd.DataFrame, directory_path:str, name:str):\n",
    "\n",
    "    \"\"\"\n",
    "    Description:\n",
    "        This function writes the paths of the videos in a .txt file, this will be used for feature extraction in 'file_with_video_paths'\n",
    "\n",
    "    Args: \n",
    "        df (pd.DataFrame): a DataFrame of Pandas, could be train_df, val_df or test_df\n",
    "        directory_path (str): the path to the directory where the videos are located\n",
    "        name (str): the name of the .txt file\n",
    "\n",
    "    \"\"\"\n",
    "\n",
    "    if not isinstance(df, pd.DataFrame):\n",
    "        raise TypeError(\"df must be a DataFrame of Pandas\")\n",
    "\n",
    "    paths = []\n",
    "\n",
    "    for id in df['youtube_id']:\n",
    "        paths.append(os.path.join(directory_path, f\"{id}.mp4\"))\n",
    "\n",
    "    print(f\"Finished writing video paths of {name} dataset\" )\n",
    "\n",
    "    output_file = f'./txt/path_{name}.txt'\n",
    "    with open(output_file, 'w') as f:\n",
    "        for path in paths:\n",
    "            f.write(f\"{path}\\n\")\n",
    "\n",
    "    print(f\"Finished writing video paths of {name} dataset\")"
   ]
  },
  {
   "cell_type": "markdown",
   "metadata": {},
   "source": [
    "You can change the location according to your paths"
   ]
  },
  {
   "cell_type": "code",
   "execution_count": 8,
   "metadata": {},
   "outputs": [],
   "source": [
    "directories = ['./videos/train_subset', \n",
    "               './videos/test_subset', \n",
    "               './videos/val_subset'] # pls download the .zip w the videos and place them in the 'videos' directory\n",
    "\n",
    "val_directory = 'C:/Users/nayel/Desktop/utec/2025-0/machine-learning/project-2/videos/val_subset/' # full path of the directory where the val_videos are located\n",
    "train_directory = 'C:/Users/nayel/Desktop/utec/2025-0/machine-learning/project-2/videos/train_subset/'\n",
    "test_directory = 'C:/Users/nayel/Desktop/utec/2025-0/machine-learning/project-2/videos/test_subset/'"
   ]
  },
  {
   "cell_type": "code",
   "execution_count": 9,
   "metadata": {},
   "outputs": [
    {
     "name": "stdout",
     "output_type": "stream",
     "text": [
      "Starting renaming process...\n",
      "\n",
      "Renaming process for ./videos/train_subset started.\n",
      "Renaming process for ./videos/train_subset completed.\n",
      "Renaming process for ./videos/test_subset started.\n",
      "Renaming process for ./videos/test_subset completed.\n",
      "Renaming process for ./videos/val_subset started.\n",
      "Renaming process for ./videos/val_subset completed.\n"
     ]
    }
   ],
   "source": [
    "rename_files(directories)"
   ]
  },
  {
   "cell_type": "code",
   "execution_count": 19,
   "metadata": {},
   "outputs": [
    {
     "name": "stdout",
     "output_type": "stream",
     "text": [
      "Finished writing video paths of val dataset\n",
      "Finished writing video paths of val dataset\n"
     ]
    }
   ],
   "source": [
    "write_video_paths_txt(val_df, val_directory, 'val')\n",
    "write_video_paths_txt(train_df, train_directory, 'train')\n",
    "write_video_paths_txt(test_df, test_directory, 'test')"
   ]
  },
  {
   "cell_type": "markdown",
   "metadata": {},
   "source": [
    "Ahora que tenemos todos los path de los videos almacenados en un `.txt` (separado por train, val y test) podemos usar video_features para realizar la extracción de caracteristicas correspondiente.\n",
    "\n",
    "Para esto primero clonamos el repositorio de video_features e instalamos las dependencias necesarias dentro de este directorio/repositorio:"
   ]
  },
  {
   "cell_type": "markdown",
   "metadata": {},
   "source": [
    "```bash\n",
    "git clone https://github.com/v-iashin/video_features.git\n",
    "cd video_features"
   ]
  },
  {
   "cell_type": "markdown",
   "metadata": {},
   "source": [
    "Para realizar la instalación de dependencias, necesitas tener anaconda/miniconda instalado"
   ]
  },
  {
   "cell_type": "markdown",
   "metadata": {},
   "source": [
    "```bash\n",
    "conda create -n video_features\n",
    "conda install pytorch torchvision torchaudio pytorch-cuda=12.1 -c pytorch -c nvidia\n",
    "conda install -c conda-forge omegaconf scipy tqdm pytest opencv\n",
    "conda install -c conda-forge av"
   ]
  },
  {
   "cell_type": "markdown",
   "metadata": {},
   "source": [
    "Con esto hecho, ya se puede realizar la extracción de caracteristicas en la terminal con el siguiente comando:"
   ]
  },
  {
   "cell_type": "markdown",
   "metadata": {},
   "source": [
    "```bash\n",
    "\n",
    "python main.py \n",
    "        \\ feature_type=r21d \n",
    "        \\ device=\"cuda:0\" \n",
    "        \\ file_with_video_paths=\"../txt/path_${name}.txt\" \n",
    "        \\ on_extraction=save_numpy \n",
    "        \\ output_path=\"../extraction/${name}\"\n",
    "\n",
    "# 'name' could be: [train, test, val]"
   ]
  },
  {
   "cell_type": "markdown",
   "metadata": {},
   "source": [
    "Ejecutando lo anterior, se crean archivos `.npy` dentro del directorio 'videos'. Cada archivo le corresponde a la extracción de características de un video."
   ]
  }
 ],
 "metadata": {
  "kernelspec": {
   "display_name": "Python 3",
   "language": "python",
   "name": "python3"
  },
  "language_info": {
   "codemirror_mode": {
    "name": "ipython",
    "version": 3
   },
   "file_extension": ".py",
   "mimetype": "text/x-python",
   "name": "python",
   "nbconvert_exporter": "python",
   "pygments_lexer": "ipython3",
   "version": "3.12.5"
  }
 },
 "nbformat": 4,
 "nbformat_minor": 2
}
